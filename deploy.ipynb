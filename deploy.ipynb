{
 "cells": [
  {
   "cell_type": "markdown",
   "id": "cc3aa5a4",
   "metadata": {},
   "source": [
    "## 🚀 Model Deployment"
   ]
  },
  {
   "cell_type": "code",
   "execution_count": 1,
   "id": "edb462d0",
   "metadata": {},
   "outputs": [],
   "source": [
    "%load_ext autoreload\n",
    "%autoreload 2\n",
    "import os\n",
    "import sqlite3\n",
    "from glob import glob\n",
    "import joblib\n",
    "import pandas as pd\n",
    "import requests\n",
    "from arch import arch_model\n",
    "from statsmodels.graphics.tsaplots import plot_acf, plot_pacf\n",
    "from config import settings\n",
    "from data import SQLRepository\n",
    "from model import GarchModel\n"
   ]
  },
  {
   "cell_type": "code",
   "execution_count": 2,
   "id": "fb6c05f6",
   "metadata": {},
   "outputs": [
    {
     "name": "stdout",
     "output_type": "stream",
     "text": [
      "repo type : <class 'data.SQLRepository'>\n",
      "repo.connection type : <class 'sqlite3.Connection'>\n"
     ]
    }
   ],
   "source": [
    "# Initialize repository\n",
    "connection = sqlite3.connect(settings.db_name, check_same_thread=False)\n",
    "repo = SQLRepository(connection=connection)\n",
    "print(\"repo type :\",type(repo))\n",
    "print(\"repo.connection type :\" , type(repo.connection))"
   ]
  },
  {
   "cell_type": "code",
   "execution_count": 3,
   "id": "19c6bfc4",
   "metadata": {},
   "outputs": [],
   "source": [
    "#Instantiate a 'GarchModel'\n",
    "gm_amazon = GarchModel(ticker=\"AMZN\",repo=repo,use_new_data=False)"
   ]
  },
  {
   "cell_type": "code",
   "execution_count": 4,
   "id": "ab25a21f",
   "metadata": {},
   "outputs": [
    {
     "name": "stdout",
     "output_type": "stream",
     "text": [
      "GarchModel attributes verified.\n"
     ]
    }
   ],
   "source": [
    "#Does 'gm_amazon' have the correct attributes?\n",
    "assert gm_amazon.ticker == \"AMZN\"\n",
    "assert gm_amazon.repo == repo\n",
    "assert not gm_amazon.use_new_data\n",
    "assert gm_amazon.model_directory == settings.model_directory\n",
    "print(\"GarchModel attributes verified.\")\n"
   ]
  },
  {
   "cell_type": "markdown",
   "id": "dbadfe84",
   "metadata": {},
   "source": [
    "After working on Garch model wrangle_data method next"
   ]
  },
  {
   "cell_type": "code",
   "execution_count": 5,
   "id": "72ddf6eb",
   "metadata": {},
   "outputs": [],
   "source": [
    "#Instantiate a 'GarchModel'\n",
    "model_netflix= GarchModel(ticker=\"NFLX\",repo=repo,use_new_data=True)\n",
    "#Check that model doesn't have 'data' attribute\n",
    "assert not hasattr(model_netflix,\"data\")"
   ]
  },
  {
   "cell_type": "code",
   "execution_count": 6,
   "id": "38a1d051",
   "metadata": {},
   "outputs": [
    {
     "data": {
      "text/plain": [
       "date\n",
       "2015-06-17   -0.010511\n",
       "2015-06-18    0.005001\n",
       "2015-06-19   -0.009198\n",
       "2015-06-22    0.027089\n",
       "2015-06-23    0.009320\n",
       "                ...   \n",
       "2025-05-19    0.000092\n",
       "2025-05-20    0.000319\n",
       "2025-05-21    0.002190\n",
       "2025-05-22   -0.005575\n",
       "2025-05-23   -0.002172\n",
       "Name: return, Length: 2500, dtype: float64"
      ]
     },
     "execution_count": 6,
     "metadata": {},
     "output_type": "execute_result"
    }
   ],
   "source": [
    "#Wrangle data\n",
    "model_netflix.wrangle_data(n_observations=2500)"
   ]
  },
  {
   "cell_type": "code",
   "execution_count": 7,
   "id": "e15bb8fa",
   "metadata": {},
   "outputs": [],
   "source": [
    "#Does model now have \"data\" attribute?\n",
    "assert hasattr (model_netflix,\"data\")\n",
    "#Is the 'data' a Series?\n",
    "assert isinstance(model_netflix.data,pd.Series)\n",
    "#Is series correct shape?\n",
    "assert model_netflix.data.shape == (2500,)"
   ]
  },
  {
   "cell_type": "markdown",
   "id": "e996b0b4",
   "metadata": {},
   "source": [
    "#### GarchModel Class : Fit method"
   ]
  },
  {
   "cell_type": "code",
   "execution_count": 8,
   "id": "2c8bf0ab",
   "metadata": {},
   "outputs": [
    {
     "name": "stdout",
     "output_type": "stream",
     "text": [
      "fit tests passed.\n"
     ]
    },
    {
     "data": {
      "text/html": [
       "<table class=\"simpletable\">\n",
       "<caption>Constant Mean - GARCH Model Results</caption>\n",
       "<tr>\n",
       "  <th>Dep. Variable:</th>       <td>return</td>       <th>  R-squared:         </th>  <td>   0.000</td> \n",
       "</tr>\n",
       "<tr>\n",
       "  <th>Mean Model:</th>       <td>Constant Mean</td>   <th>  Adj. R-squared:    </th>  <td>   0.000</td> \n",
       "</tr>\n",
       "<tr>\n",
       "  <th>Vol Model:</th>            <td>GARCH</td>       <th>  Log-Likelihood:    </th> <td>   5397.07</td>\n",
       "</tr>\n",
       "<tr>\n",
       "  <th>Distribution:</th>        <td>Normal</td>       <th>  AIC:               </th> <td>  -10786.1</td>\n",
       "</tr>\n",
       "<tr>\n",
       "  <th>Method:</th>        <td>Maximum Likelihood</td> <th>  BIC:               </th> <td>  -10762.8</td>\n",
       "</tr>\n",
       "<tr>\n",
       "  <th></th>                        <td></td>          <th>  No. Observations:  </th>    <td>2500</td>   \n",
       "</tr>\n",
       "<tr>\n",
       "  <th>Date:</th>           <td>Sat, May 24 2025</td>  <th>  Df Residuals:      </th>    <td>2499</td>   \n",
       "</tr>\n",
       "<tr>\n",
       "  <th>Time:</th>               <td>12:40:05</td>      <th>  Df Model:          </th>      <td>1</td>    \n",
       "</tr>\n",
       "</table>\n",
       "<table class=\"simpletable\">\n",
       "<caption>Mean Model</caption>\n",
       "<tr>\n",
       "   <td></td>     <th>coef</th>     <th>std err</th>      <th>t</th>       <th>P>|t|</th>      <th>95.0% Conf. Int.</th>   \n",
       "</tr>\n",
       "<tr>\n",
       "  <th>mu</th> <td>2.0727e-03</td> <td>1.786e-03</td> <td>    1.161</td> <td>    0.246</td> <td>[-1.427e-03,5.573e-03]</td>\n",
       "</tr>\n",
       "</table>\n",
       "<table class=\"simpletable\">\n",
       "<caption>Volatility Model</caption>\n",
       "<tr>\n",
       "      <td></td>        <th>coef</th>     <th>std err</th>      <th>t</th>       <th>P>|t|</th>     <th>95.0% Conf. Int.</th>   \n",
       "</tr>\n",
       "<tr>\n",
       "  <th>omega</th>    <td>2.0831e-05</td> <td>7.320e-06</td> <td>    2.846</td> <td>4.430e-03</td> <td>[6.484e-06,3.518e-05]</td>\n",
       "</tr>\n",
       "<tr>\n",
       "  <th>alpha[1]</th> <td>    0.0500</td> <td>    0.211</td> <td>    0.237</td> <td>    0.813</td>   <td>[ -0.364,  0.464]</td>  \n",
       "</tr>\n",
       "<tr>\n",
       "  <th>beta[1]</th>  <td>    0.9300</td> <td>    0.122</td> <td>    7.635</td> <td>2.255e-14</td>   <td>[  0.691,  1.169]</td>  \n",
       "</tr>\n",
       "</table><br/><br/>Covariance estimator: robust"
      ],
      "text/latex": [
       "\\begin{center}\n",
       "\\begin{tabular}{lclc}\n",
       "\\toprule\n",
       "\\textbf{Dep. Variable:} &       return       & \\textbf{  R-squared:         } &     0.000   \\\\\n",
       "\\textbf{Mean Model:}    &   Constant Mean    & \\textbf{  Adj. R-squared:    } &     0.000   \\\\\n",
       "\\textbf{Vol Model:}     &       GARCH        & \\textbf{  Log-Likelihood:    } &    5397.07  \\\\\n",
       "\\textbf{Distribution:}  &       Normal       & \\textbf{  AIC:               } &   -10786.1  \\\\\n",
       "\\textbf{Method:}        & Maximum Likelihood & \\textbf{  BIC:               } &   -10762.8  \\\\\n",
       "\\textbf{}               &                    & \\textbf{  No. Observations:  } &    2500     \\\\\n",
       "\\textbf{Date:}          &  Sat, May 24 2025  & \\textbf{  Df Residuals:      } &    2499     \\\\\n",
       "\\textbf{Time:}          &      12:40:05      & \\textbf{  Df Model:          } &     1       \\\\\n",
       "\\bottomrule\n",
       "\\end{tabular}\n",
       "\\begin{tabular}{lccccc}\n",
       "            & \\textbf{coef} & \\textbf{std err} & \\textbf{t} & \\textbf{P$> |$t$|$} & \\textbf{95.0\\% Conf. Int.}  \\\\\n",
       "\\midrule\n",
       "\\textbf{mu} &   2.0727e-03  &    1.786e-03     &     1.161  &          0.246       &   [-1.427e-03,5.573e-03]    \\\\\n",
       "                  & \\textbf{coef} & \\textbf{std err} & \\textbf{t} & \\textbf{P$> |$t$|$} & \\textbf{95.0\\% Conf. Int.}  \\\\\n",
       "\\midrule\n",
       "\\textbf{omega}    &   2.0831e-05  &    7.320e-06     &     2.846  &      4.430e-03       &   [6.484e-06,3.518e-05]     \\\\\n",
       "\\textbf{alpha[1]} &       0.0500  &        0.211     &     0.237  &          0.813       &     [ -0.364,  0.464]       \\\\\n",
       "\\textbf{beta[1]}  &       0.9300  &        0.122     &     7.635  &      2.255e-14       &     [  0.691,  1.169]       \\\\\n",
       "\\bottomrule\n",
       "\\end{tabular}\n",
       "%\\caption{Constant Mean - GARCH Model Results}\n",
       "\\end{center}\n",
       "\n",
       "Covariance estimator: robust"
      ],
      "text/plain": [
       "<class 'statsmodels.iolib.summary.Summary'>\n",
       "\"\"\"\n",
       "                     Constant Mean - GARCH Model Results                      \n",
       "==============================================================================\n",
       "Dep. Variable:                 return   R-squared:                       0.000\n",
       "Mean Model:             Constant Mean   Adj. R-squared:                  0.000\n",
       "Vol Model:                      GARCH   Log-Likelihood:                5397.07\n",
       "Distribution:                  Normal   AIC:                          -10786.1\n",
       "Method:            Maximum Likelihood   BIC:                          -10762.8\n",
       "                                        No. Observations:                 2500\n",
       "Date:                Sat, May 24 2025   Df Residuals:                     2499\n",
       "Time:                        12:40:05   Df Model:                            1\n",
       "                                  Mean Model                                 \n",
       "=============================================================================\n",
       "                 coef    std err          t      P>|t|       95.0% Conf. Int.\n",
       "-----------------------------------------------------------------------------\n",
       "mu         2.0727e-03  1.786e-03      1.161      0.246 [-1.427e-03,5.573e-03]\n",
       "                              Volatility Model                              \n",
       "============================================================================\n",
       "                 coef    std err          t      P>|t|      95.0% Conf. Int.\n",
       "----------------------------------------------------------------------------\n",
       "omega      2.0831e-05  7.320e-06      2.846  4.430e-03 [6.484e-06,3.518e-05]\n",
       "alpha[1]       0.0500      0.211      0.237      0.813     [ -0.364,  0.464]\n",
       "beta[1]        0.9300      0.122      7.635  2.255e-14     [  0.691,  1.169]\n",
       "============================================================================\n",
       "\n",
       "Covariance estimator: robust\n",
       "\"\"\""
      ]
     },
     "execution_count": 8,
     "metadata": {},
     "output_type": "execute_result"
    }
   ],
   "source": [
    "# GarchModel Class: Fit method\n",
    "from arch.univariate.base import ARCHModelResult  \n",
    "\n",
    "\n",
    "# Instantiate GarchModel using old data\n",
    "model_netflix = GarchModel(ticker=\"NFLX\", repo=repo, use_new_data=False)\n",
    "\n",
    "# Wrangle data\n",
    "model_netflix.wrangle_data(n_observations=2500)\n",
    "\n",
    "# Fit GARCH(1,1) model to data\n",
    "model_netflix.fit(p=1, q=1)\n",
    "\n",
    "# Does model_netflix have a 'model' attribute?\n",
    "assert hasattr(model_netflix, \"model\")\n",
    "\n",
    "# Is model the correct data type?\n",
    "assert isinstance(model_netflix.model, ARCHModelResult)\n",
    "\n",
    "# Does model have correct parameters?\n",
    "assert model_netflix.model.params.index.to_list() == [\"mu\", \"omega\", \"alpha[1]\", \"beta[1]\"]\n",
    "\n",
    "print(\"fit tests passed.\")\n",
    "#Check model parameters\n",
    "model_netflix.model.summary()"
   ]
  },
  {
   "cell_type": "markdown",
   "id": "3975a924",
   "metadata": {},
   "source": [
    "#### GarchModel Class : Predict_volatility Method"
   ]
  },
  {
   "cell_type": "code",
   "execution_count": 9,
   "id": "71c64b75",
   "metadata": {},
   "outputs": [
    {
     "data": {
      "text/plain": [
       "{'2025-05-26T00:00:00': 0.023,\n",
       " '2025-05-27T00:00:00': 0.024,\n",
       " '2025-05-28T00:00:00': 0.024,\n",
       " '2025-05-29T00:00:00': 0.024,\n",
       " '2025-05-30T00:00:00': 0.024}"
      ]
     },
     "execution_count": 9,
     "metadata": {},
     "output_type": "execute_result"
    }
   ],
   "source": [
    "#Generate prediction from 'model_netflix'\n",
    "prediction = model_netflix.predict_volatility(horizon=5)\n",
    "#Is prediction a dictionary?\n",
    "assert isinstance(prediction,dict)\n",
    "#Are keys correct data type?\n",
    "assert all (isinstance(k,str) for k in prediction.keys())\n",
    "#Are values correct data type?\n",
    "assert all(isinstance(v,float) for v in prediction.values())\n",
    "prediction"
   ]
  },
  {
   "cell_type": "markdown",
   "id": "eb360e56",
   "metadata": {},
   "source": [
    "#### GarchModel Class : Dump Method"
   ]
  },
  {
   "cell_type": "code",
   "execution_count": 10,
   "id": "b1b91714",
   "metadata": {},
   "outputs": [
    {
     "data": {
      "text/plain": [
       "'models\\\\2025-05-24T12-40-13.015974_NFLX.pkl'"
      ]
     },
     "execution_count": 10,
     "metadata": {},
     "output_type": "execute_result"
    }
   ],
   "source": [
    "#Save 'model_netflix' model assign file name\n",
    "filename = model_netflix.dump()\n",
    "#Is filename a string?\n",
    "assert isinstance(filename,str)\n",
    "#Does file name include ticker symbol?\n",
    "assert model_netflix.ticker in filename\n",
    "#Does file exists\n",
    "assert os.path.exists(filename)\n",
    "filename"
   ]
  },
  {
   "cell_type": "markdown",
   "id": "dfbd9087",
   "metadata": {},
   "source": [
    "#### GarchModel Class : Load Method\n"
   ]
  },
  {
   "cell_type": "code",
   "execution_count": 11,
   "id": "3615fa04",
   "metadata": {},
   "outputs": [
    {
     "data": {
      "text/html": [
       "<table class=\"simpletable\">\n",
       "<caption>Constant Mean - GARCH Model Results</caption>\n",
       "<tr>\n",
       "  <th>Dep. Variable:</th>       <td>return</td>       <th>  R-squared:         </th>  <td>   0.000</td> \n",
       "</tr>\n",
       "<tr>\n",
       "  <th>Mean Model:</th>       <td>Constant Mean</td>   <th>  Adj. R-squared:    </th>  <td>   0.000</td> \n",
       "</tr>\n",
       "<tr>\n",
       "  <th>Vol Model:</th>            <td>GARCH</td>       <th>  Log-Likelihood:    </th> <td>   5397.07</td>\n",
       "</tr>\n",
       "<tr>\n",
       "  <th>Distribution:</th>        <td>Normal</td>       <th>  AIC:               </th> <td>  -10786.1</td>\n",
       "</tr>\n",
       "<tr>\n",
       "  <th>Method:</th>        <td>Maximum Likelihood</td> <th>  BIC:               </th> <td>  -10762.8</td>\n",
       "</tr>\n",
       "<tr>\n",
       "  <th></th>                        <td></td>          <th>  No. Observations:  </th>    <td>2500</td>   \n",
       "</tr>\n",
       "<tr>\n",
       "  <th>Date:</th>           <td>Sat, May 24 2025</td>  <th>  Df Residuals:      </th>    <td>2499</td>   \n",
       "</tr>\n",
       "<tr>\n",
       "  <th>Time:</th>               <td>12:40:05</td>      <th>  Df Model:          </th>      <td>1</td>    \n",
       "</tr>\n",
       "</table>\n",
       "<table class=\"simpletable\">\n",
       "<caption>Mean Model</caption>\n",
       "<tr>\n",
       "   <td></td>     <th>coef</th>     <th>std err</th>      <th>t</th>       <th>P>|t|</th>      <th>95.0% Conf. Int.</th>   \n",
       "</tr>\n",
       "<tr>\n",
       "  <th>mu</th> <td>2.0727e-03</td> <td>1.786e-03</td> <td>    1.161</td> <td>    0.246</td> <td>[-1.427e-03,5.573e-03]</td>\n",
       "</tr>\n",
       "</table>\n",
       "<table class=\"simpletable\">\n",
       "<caption>Volatility Model</caption>\n",
       "<tr>\n",
       "      <td></td>        <th>coef</th>     <th>std err</th>      <th>t</th>       <th>P>|t|</th>     <th>95.0% Conf. Int.</th>   \n",
       "</tr>\n",
       "<tr>\n",
       "  <th>omega</th>    <td>2.0831e-05</td> <td>7.320e-06</td> <td>    2.846</td> <td>4.430e-03</td> <td>[6.484e-06,3.518e-05]</td>\n",
       "</tr>\n",
       "<tr>\n",
       "  <th>alpha[1]</th> <td>    0.0500</td> <td>    0.211</td> <td>    0.237</td> <td>    0.813</td>   <td>[ -0.364,  0.464]</td>  \n",
       "</tr>\n",
       "<tr>\n",
       "  <th>beta[1]</th>  <td>    0.9300</td> <td>    0.122</td> <td>    7.635</td> <td>2.255e-14</td>   <td>[  0.691,  1.169]</td>  \n",
       "</tr>\n",
       "</table><br/><br/>Covariance estimator: robust"
      ],
      "text/latex": [
       "\\begin{center}\n",
       "\\begin{tabular}{lclc}\n",
       "\\toprule\n",
       "\\textbf{Dep. Variable:} &       return       & \\textbf{  R-squared:         } &     0.000   \\\\\n",
       "\\textbf{Mean Model:}    &   Constant Mean    & \\textbf{  Adj. R-squared:    } &     0.000   \\\\\n",
       "\\textbf{Vol Model:}     &       GARCH        & \\textbf{  Log-Likelihood:    } &    5397.07  \\\\\n",
       "\\textbf{Distribution:}  &       Normal       & \\textbf{  AIC:               } &   -10786.1  \\\\\n",
       "\\textbf{Method:}        & Maximum Likelihood & \\textbf{  BIC:               } &   -10762.8  \\\\\n",
       "\\textbf{}               &                    & \\textbf{  No. Observations:  } &    2500     \\\\\n",
       "\\textbf{Date:}          &  Sat, May 24 2025  & \\textbf{  Df Residuals:      } &    2499     \\\\\n",
       "\\textbf{Time:}          &      12:40:05      & \\textbf{  Df Model:          } &     1       \\\\\n",
       "\\bottomrule\n",
       "\\end{tabular}\n",
       "\\begin{tabular}{lccccc}\n",
       "            & \\textbf{coef} & \\textbf{std err} & \\textbf{t} & \\textbf{P$> |$t$|$} & \\textbf{95.0\\% Conf. Int.}  \\\\\n",
       "\\midrule\n",
       "\\textbf{mu} &   2.0727e-03  &    1.786e-03     &     1.161  &          0.246       &   [-1.427e-03,5.573e-03]    \\\\\n",
       "                  & \\textbf{coef} & \\textbf{std err} & \\textbf{t} & \\textbf{P$> |$t$|$} & \\textbf{95.0\\% Conf. Int.}  \\\\\n",
       "\\midrule\n",
       "\\textbf{omega}    &   2.0831e-05  &    7.320e-06     &     2.846  &      4.430e-03       &   [6.484e-06,3.518e-05]     \\\\\n",
       "\\textbf{alpha[1]} &       0.0500  &        0.211     &     0.237  &          0.813       &     [ -0.364,  0.464]       \\\\\n",
       "\\textbf{beta[1]}  &       0.9300  &        0.122     &     7.635  &      2.255e-14       &     [  0.691,  1.169]       \\\\\n",
       "\\bottomrule\n",
       "\\end{tabular}\n",
       "%\\caption{Constant Mean - GARCH Model Results}\n",
       "\\end{center}\n",
       "\n",
       "Covariance estimator: robust"
      ],
      "text/plain": [
       "<class 'statsmodels.iolib.summary.Summary'>\n",
       "\"\"\"\n",
       "                     Constant Mean - GARCH Model Results                      \n",
       "==============================================================================\n",
       "Dep. Variable:                 return   R-squared:                       0.000\n",
       "Mean Model:             Constant Mean   Adj. R-squared:                  0.000\n",
       "Vol Model:                      GARCH   Log-Likelihood:                5397.07\n",
       "Distribution:                  Normal   AIC:                          -10786.1\n",
       "Method:            Maximum Likelihood   BIC:                          -10762.8\n",
       "                                        No. Observations:                 2500\n",
       "Date:                Sat, May 24 2025   Df Residuals:                     2499\n",
       "Time:                        12:40:05   Df Model:                            1\n",
       "                                  Mean Model                                 \n",
       "=============================================================================\n",
       "                 coef    std err          t      P>|t|       95.0% Conf. Int.\n",
       "-----------------------------------------------------------------------------\n",
       "mu         2.0727e-03  1.786e-03      1.161      0.246 [-1.427e-03,5.573e-03]\n",
       "                              Volatility Model                              \n",
       "============================================================================\n",
       "                 coef    std err          t      P>|t|      95.0% Conf. Int.\n",
       "----------------------------------------------------------------------------\n",
       "omega      2.0831e-05  7.320e-06      2.846  4.430e-03 [6.484e-06,3.518e-05]\n",
       "alpha[1]       0.0500      0.211      0.237      0.813     [ -0.364,  0.464]\n",
       "beta[1]        0.9300      0.122      7.635  2.255e-14     [  0.691,  1.169]\n",
       "============================================================================\n",
       "\n",
       "Covariance estimator: robust\n",
       "\"\"\""
      ]
     },
     "execution_count": 11,
     "metadata": {},
     "output_type": "execute_result"
    }
   ],
   "source": [
    "model_netflix = GarchModel(ticker=\"NFLX\",repo=repo,use_new_data=False)\n",
    "#Check that  new 'model_netflix_test' doesn't have model attached\n",
    "assert not hasattr(model_netflix,\"model\")\n",
    "#Load model\n",
    "model_netflix.load()\n",
    "#Does 'model_netflix_test' have model attached\n",
    "assert hasattr(model_netflix,\"model\")\n",
    "model_netflix.model.summary()"
   ]
  },
  {
   "cell_type": "markdown",
   "id": "b977343f",
   "metadata": {},
   "source": [
    "## 🌐 Creating a Simple Application Endpoint\n",
    "\n",
    "### 🔹 `/hello` Path\n",
    "We've created a `/hello` path for our application that returns a simple greeting when it receives a **GET** request.\n",
    "\n",
    "### ✅ Test the GET Request\n",
    "Now that the path is set up, let's perform a **GET** request to `/hello` to check if it works correctly.\n"
   ]
  },
  {
   "cell_type": "code",
   "execution_count": 12,
   "id": "aeb68a89",
   "metadata": {},
   "outputs": [
    {
     "name": "stdout",
     "output_type": "stream",
     "text": [
      "response code : 200\n"
     ]
    },
    {
     "data": {
      "text/plain": [
       "{'message': 'Hello world!'}"
      ]
     },
     "execution_count": 12,
     "metadata": {},
     "output_type": "execute_result"
    }
   ],
   "source": [
    "url = \"http://localhost:8008/hello\"\n",
    "response = requests.get(url=url)\n",
    "\n",
    "print(\"response code :\",response.status_code)\n",
    "response.json()"
   ]
  },
  {
   "cell_type": "markdown",
   "id": "36701326",
   "metadata": {},
   "source": [
    "## ⚙️ `/fit` Path\n",
    "\n",
    "### 🔹 Purpose\n",
    "Our first path allows the user to **fit a model to stock data** by making a **POST** request to the server.\n",
    "\n",
    "- Users can choose to use **new data from AlphaVantage** or **existing data** already stored in our database.\n",
    "- Upon making a request, the user will receive a **response** indicating whether the operation was **successful** or if there was an **error**.\n",
    "\n",
    "---\n",
    "\n",
    "## 🧪 `/fit` Path: Data Classes & Validation\n",
    "\n",
    "With our **Pydantic data classes** defined, we can test how they:\n",
    "\n",
    "- **Ensure users provide valid input**.\n",
    "- **Guarantee the application returns correctly structured output**.\n",
    "\n",
    "This validation ensures robust and predictable interactions with the `/fit` endpoint.\n"
   ]
  },
  {
   "cell_type": "code",
   "execution_count": 14,
   "id": "ca6825dd",
   "metadata": {},
   "outputs": [],
   "source": [
    "from main import FitIn,FitOut\n",
    "#Instantiate \"FitIn\".play with parameters"
   ]
  },
  {
   "cell_type": "code",
   "execution_count": 15,
   "id": "065e519f",
   "metadata": {},
   "outputs": [
    {
     "name": "stdout",
     "output_type": "stream",
     "text": [
      "ticker='NTFL' use_new_data=True n_observations=2500 p=1 q=1\n"
     ]
    }
   ],
   "source": [
    "fi = FitIn(\n",
    "    ticker = \"NTFL\",\n",
    "    use_new_data=True,\n",
    "    n_observations=2500,\n",
    "    p=1,\n",
    "    q=1\n",
    ")\n",
    "print(fi)"
   ]
  },
  {
   "cell_type": "code",
   "execution_count": 16,
   "id": "d43f53bb",
   "metadata": {},
   "outputs": [
    {
     "name": "stdout",
     "output_type": "stream",
     "text": [
      "ticker='NTFL' use_new_data=True n_observations=2500 p=1 q=1 success=True message='model is ready to rock'\n"
     ]
    }
   ],
   "source": [
    "#Instantiate \"FitOut\".Play with parameters\n",
    "fo = FitOut(\n",
    "    ticker = \"NTFL\",\n",
    "    use_new_data=True,\n",
    "    n_observations=2500,\n",
    "    p=1,\n",
    "    q=1,\n",
    "    success=True,\n",
    "    message=\"model is ready to rock\"\n",
    "    \n",
    ")\n",
    "print(fo)"
   ]
  },
  {
   "cell_type": "markdown",
   "id": "269e02b9",
   "metadata": {},
   "source": [
    "### Build Model function"
   ]
  },
  {
   "cell_type": "code",
   "execution_count": 17,
   "id": "04871586",
   "metadata": {},
   "outputs": [],
   "source": [
    "from main import build_model\n",
    "#Intantiate \"GarchModel\" with function\n",
    "model_netflix =build_model(ticker=\"NTFL\",use_new_data=False)"
   ]
  },
  {
   "cell_type": "code",
   "execution_count": 18,
   "id": "0b7d81c2",
   "metadata": {},
   "outputs": [
    {
     "data": {
      "text/plain": [
       "<model.GarchModel at 0x1c50fb86a20>"
      ]
     },
     "execution_count": 18,
     "metadata": {},
     "output_type": "execute_result"
    }
   ],
   "source": [
    "#Is 'SQLRepository' attached to model_netflix?\n",
    "assert isinstance(model_netflix.repo,SQLRepository)\n",
    "#Is SQLite database attached to SQRepository\n",
    "assert isinstance(model_netflix.repo.connection,sqlite3.Connection)\n",
    "#Is ticker atribute correct?\n",
    "assert model_netflix.ticker == \"NTFL\"\n",
    "#Is 'use_new_data' attribute correct?\n",
    "assert not model_netflix.use_new_data\n",
    "model_netflix"
   ]
  },
  {
   "cell_type": "markdown",
   "id": "88280cb8",
   "metadata": {},
   "source": [
    "#### Post Request to \"Fit\" path"
   ]
  },
  {
   "cell_type": "code",
   "execution_count": 19,
   "id": "3c64b72c",
   "metadata": {},
   "outputs": [
    {
     "data": {
      "text/plain": [
       "{'ticker': 'NFLX',\n",
       " 'use_new_data': False,\n",
       " 'n_observations': 2500,\n",
       " 'p': 1,\n",
       " 'q': 1,\n",
       " 'success': True,\n",
       " 'message': \"Trained and saved to 'models\\\\2025-05-24T12-41-10.508477_NFLX.pkl'.\"}"
      ]
     },
     "execution_count": 19,
     "metadata": {},
     "output_type": "execute_result"
    }
   ],
   "source": [
    "import requests\n",
    "response = requests.post(\"http://localhost:8008/fit\",\n",
    "                         json={\"ticker\":\"NFLX\",\n",
    "                               \"use_new_data\":False,\n",
    "                               \"n_observations\":2500,\n",
    "                               \"p\":1,\n",
    "                               \"q\":1}\n",
    "                        )\n",
    "response.json()"
   ]
  },
  {
   "cell_type": "markdown",
   "id": "f1e34b9a",
   "metadata": {},
   "source": [
    "Boom! Now we can train models using the API we've created.Up next a path to make prediction"
   ]
  },
  {
   "cell_type": "markdown",
   "id": "15e48ca1",
   "metadata": {},
   "source": [
    "#### \"Predict\" path : Data classes"
   ]
  },
  {
   "cell_type": "code",
   "execution_count": 23,
   "id": "5e56d6f5",
   "metadata": {},
   "outputs": [
    {
     "name": "stdout",
     "output_type": "stream",
     "text": [
      "ticker='NTFL' n_days=5\n"
     ]
    }
   ],
   "source": [
    "from main import PredictIn,PredictOut\n",
    "pi = PredictIn(ticker=\"NTFL\",n_days=5)\n",
    "print(pi)"
   ]
  },
  {
   "cell_type": "code",
   "execution_count": 24,
   "id": "2b4e2434",
   "metadata": {},
   "outputs": [
    {
     "name": "stdout",
     "output_type": "stream",
     "text": [
      "ticker='NTFL' n_days=5 success=True forecast={} message='success'\n"
     ]
    }
   ],
   "source": [
    "po = PredictOut(\n",
    "    ticker = \"NTFL\",\n",
    "    n_days=5,\n",
    "    success=True,\n",
    "    forecast={},\n",
    "    message=\"success\"\n",
    ")\n",
    "print(po)"
   ]
  },
  {
   "cell_type": "markdown",
   "id": "2cb8d242",
   "metadata": {},
   "source": [
    "### \"Predict\" path : Build path"
   ]
  },
  {
   "cell_type": "code",
   "execution_count": 26,
   "id": "b7508dbc",
   "metadata": {},
   "outputs": [
    {
     "data": {
      "text/plain": [
       "{'ticker': 'NFLX',\n",
       " 'n_days': 5,\n",
       " 'success': True,\n",
       " 'forecast': {'2025-05-26T00:00:00': 0.023,\n",
       "  '2025-05-27T00:00:00': 0.024,\n",
       "  '2025-05-28T00:00:00': 0.024,\n",
       "  '2025-05-29T00:00:00': 0.024,\n",
       "  '2025-05-30T00:00:00': 0.024},\n",
       " 'message': 'Forecast generated for NFLX over 5 days.'}"
      ]
     },
     "execution_count": 26,
     "metadata": {},
     "output_type": "execute_result"
    }
   ],
   "source": [
    "import requests\n",
    "response = requests.post(\"http://localhost:8008/predict\",\n",
    "                        json={\"ticker\": \"NFLX\",\n",
    "                              \"n_days\": 5}\n",
    "                       )\n",
    "response.json()"
   ]
  },
  {
   "cell_type": "code",
   "execution_count": 29,
   "id": "855716bd",
   "metadata": {},
   "outputs": [
    {
     "name": "stdout",
     "output_type": "stream",
     "text": [
      "POST /predict passed\n"
     ]
    }
   ],
   "source": [
    "#Prediction Test\n",
    "response = requests.post(\"http://localhost:8008/predict\", json={\"ticker\":\"NFLX\",\"n_days\":5})\n",
    "assert response.status_code == 200\n",
    "assert response.json()[\"success\"]\n",
    "assert len(response.json()[\"forecast\"]) == 5\n",
    "print(\"POST /predict passed\")"
   ]
  },
  {
   "cell_type": "code",
   "execution_count": null,
   "id": "64111988",
   "metadata": {},
   "outputs": [],
   "source": []
  },
  {
   "cell_type": "code",
   "execution_count": null,
   "id": "82f226be",
   "metadata": {},
   "outputs": [],
   "source": []
  },
  {
   "cell_type": "code",
   "execution_count": null,
   "id": "c3b19099",
   "metadata": {},
   "outputs": [],
   "source": []
  }
 ],
 "metadata": {
  "kernelspec": {
   "display_name": "Python (learn-env)",
   "language": "python",
   "name": "learn-env"
  },
  "language_info": {
   "codemirror_mode": {
    "name": "ipython",
    "version": 3
   },
   "file_extension": ".py",
   "mimetype": "text/x-python",
   "name": "python",
   "nbconvert_exporter": "python",
   "pygments_lexer": "ipython3",
   "version": "3.12.4"
  }
 },
 "nbformat": 4,
 "nbformat_minor": 5
}
